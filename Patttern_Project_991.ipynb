{
  "nbformat": 4,
  "nbformat_minor": 0,
  "metadata": {
    "colab": {
      "name": "Patttern Project 991",
      "provenance": [],
      "collapsed_sections": [],
      "toc_visible": true
    },
    "kernelspec": {
      "name": "python3",
      "display_name": "Python 3"
    },
    "widgets": {
      "application/vnd.jupyter.widget-state+json": {
        "82f6eb471d6c4af8aef0eaa10f18213c": {
          "model_module": "@jupyter-widgets/controls",
          "model_name": "HBoxModel",
          "state": {
            "_view_name": "HBoxView",
            "_dom_classes": [],
            "_model_name": "HBoxModel",
            "_view_module": "@jupyter-widgets/controls",
            "_model_module_version": "1.5.0",
            "_view_count": null,
            "_view_module_version": "1.5.0",
            "box_style": "",
            "layout": "IPY_MODEL_6920eb19347845979112976299a3844f",
            "_model_module": "@jupyter-widgets/controls",
            "children": [
              "IPY_MODEL_62b92e34543d4a99949b754608f4b07a",
              "IPY_MODEL_4cb0eeba06714072a290bd806df57f6e"
            ]
          }
        },
        "6920eb19347845979112976299a3844f": {
          "model_module": "@jupyter-widgets/base",
          "model_name": "LayoutModel",
          "state": {
            "_view_name": "LayoutView",
            "grid_template_rows": null,
            "right": null,
            "justify_content": null,
            "_view_module": "@jupyter-widgets/base",
            "overflow": null,
            "_model_module_version": "1.2.0",
            "_view_count": null,
            "flex_flow": null,
            "width": null,
            "min_width": null,
            "border": null,
            "align_items": null,
            "bottom": null,
            "_model_module": "@jupyter-widgets/base",
            "top": null,
            "grid_column": null,
            "overflow_y": null,
            "overflow_x": null,
            "grid_auto_flow": null,
            "grid_area": null,
            "grid_template_columns": null,
            "flex": null,
            "_model_name": "LayoutModel",
            "justify_items": null,
            "grid_row": null,
            "max_height": null,
            "align_content": null,
            "visibility": null,
            "align_self": null,
            "height": null,
            "min_height": null,
            "padding": null,
            "grid_auto_rows": null,
            "grid_gap": null,
            "max_width": null,
            "order": null,
            "_view_module_version": "1.2.0",
            "grid_template_areas": null,
            "object_position": null,
            "object_fit": null,
            "grid_auto_columns": null,
            "margin": null,
            "display": null,
            "left": null
          }
        },
        "62b92e34543d4a99949b754608f4b07a": {
          "model_module": "@jupyter-widgets/controls",
          "model_name": "FloatProgressModel",
          "state": {
            "_view_name": "ProgressView",
            "style": "IPY_MODEL_5833698c455e4efab04eaa42aa3ae165",
            "_dom_classes": [],
            "description": "100%",
            "_model_name": "FloatProgressModel",
            "bar_style": "success",
            "max": 40393,
            "_view_module": "@jupyter-widgets/controls",
            "_model_module_version": "1.5.0",
            "value": 40393,
            "_view_count": null,
            "_view_module_version": "1.5.0",
            "orientation": "horizontal",
            "min": 0,
            "description_tooltip": null,
            "_model_module": "@jupyter-widgets/controls",
            "layout": "IPY_MODEL_f3cff9eea7a34c4dbb4dcab3d3bd23a8"
          }
        },
        "4cb0eeba06714072a290bd806df57f6e": {
          "model_module": "@jupyter-widgets/controls",
          "model_name": "HTMLModel",
          "state": {
            "_view_name": "HTMLView",
            "style": "IPY_MODEL_17c3a2a8d86646078309b0baf8d42f95",
            "_dom_classes": [],
            "description": "",
            "_model_name": "HTMLModel",
            "placeholder": "​",
            "_view_module": "@jupyter-widgets/controls",
            "_model_module_version": "1.5.0",
            "value": " 40393/40393 [16:46&lt;00:00, 40.13it/s]",
            "_view_count": null,
            "_view_module_version": "1.5.0",
            "description_tooltip": null,
            "_model_module": "@jupyter-widgets/controls",
            "layout": "IPY_MODEL_5453498644b24903931e1cea0cc0d7ac"
          }
        },
        "5833698c455e4efab04eaa42aa3ae165": {
          "model_module": "@jupyter-widgets/controls",
          "model_name": "ProgressStyleModel",
          "state": {
            "_view_name": "StyleView",
            "_model_name": "ProgressStyleModel",
            "description_width": "initial",
            "_view_module": "@jupyter-widgets/base",
            "_model_module_version": "1.5.0",
            "_view_count": null,
            "_view_module_version": "1.2.0",
            "bar_color": null,
            "_model_module": "@jupyter-widgets/controls"
          }
        },
        "f3cff9eea7a34c4dbb4dcab3d3bd23a8": {
          "model_module": "@jupyter-widgets/base",
          "model_name": "LayoutModel",
          "state": {
            "_view_name": "LayoutView",
            "grid_template_rows": null,
            "right": null,
            "justify_content": null,
            "_view_module": "@jupyter-widgets/base",
            "overflow": null,
            "_model_module_version": "1.2.0",
            "_view_count": null,
            "flex_flow": null,
            "width": null,
            "min_width": null,
            "border": null,
            "align_items": null,
            "bottom": null,
            "_model_module": "@jupyter-widgets/base",
            "top": null,
            "grid_column": null,
            "overflow_y": null,
            "overflow_x": null,
            "grid_auto_flow": null,
            "grid_area": null,
            "grid_template_columns": null,
            "flex": null,
            "_model_name": "LayoutModel",
            "justify_items": null,
            "grid_row": null,
            "max_height": null,
            "align_content": null,
            "visibility": null,
            "align_self": null,
            "height": null,
            "min_height": null,
            "padding": null,
            "grid_auto_rows": null,
            "grid_gap": null,
            "max_width": null,
            "order": null,
            "_view_module_version": "1.2.0",
            "grid_template_areas": null,
            "object_position": null,
            "object_fit": null,
            "grid_auto_columns": null,
            "margin": null,
            "display": null,
            "left": null
          }
        },
        "17c3a2a8d86646078309b0baf8d42f95": {
          "model_module": "@jupyter-widgets/controls",
          "model_name": "DescriptionStyleModel",
          "state": {
            "_view_name": "StyleView",
            "_model_name": "DescriptionStyleModel",
            "description_width": "",
            "_view_module": "@jupyter-widgets/base",
            "_model_module_version": "1.5.0",
            "_view_count": null,
            "_view_module_version": "1.2.0",
            "_model_module": "@jupyter-widgets/controls"
          }
        },
        "5453498644b24903931e1cea0cc0d7ac": {
          "model_module": "@jupyter-widgets/base",
          "model_name": "LayoutModel",
          "state": {
            "_view_name": "LayoutView",
            "grid_template_rows": null,
            "right": null,
            "justify_content": null,
            "_view_module": "@jupyter-widgets/base",
            "overflow": null,
            "_model_module_version": "1.2.0",
            "_view_count": null,
            "flex_flow": null,
            "width": null,
            "min_width": null,
            "border": null,
            "align_items": null,
            "bottom": null,
            "_model_module": "@jupyter-widgets/base",
            "top": null,
            "grid_column": null,
            "overflow_y": null,
            "overflow_x": null,
            "grid_auto_flow": null,
            "grid_area": null,
            "grid_template_columns": null,
            "flex": null,
            "_model_name": "LayoutModel",
            "justify_items": null,
            "grid_row": null,
            "max_height": null,
            "align_content": null,
            "visibility": null,
            "align_self": null,
            "height": null,
            "min_height": null,
            "padding": null,
            "grid_auto_rows": null,
            "grid_gap": null,
            "max_width": null,
            "order": null,
            "_view_module_version": "1.2.0",
            "grid_template_areas": null,
            "object_position": null,
            "object_fit": null,
            "grid_auto_columns": null,
            "margin": null,
            "display": null,
            "left": null
          }
        },
        "02c134ec15a14d7cb7b3d64ebb18f333": {
          "model_module": "@jupyter-widgets/controls",
          "model_name": "HBoxModel",
          "state": {
            "_view_name": "HBoxView",
            "_dom_classes": [],
            "_model_name": "HBoxModel",
            "_view_module": "@jupyter-widgets/controls",
            "_model_module_version": "1.5.0",
            "_view_count": null,
            "_view_module_version": "1.5.0",
            "box_style": "",
            "layout": "IPY_MODEL_85dd0a5e2002451690eeede2cf9c8934",
            "_model_module": "@jupyter-widgets/controls",
            "children": [
              "IPY_MODEL_7cf819a63b9b427299bc89c37dda9160",
              "IPY_MODEL_676c22d7ea994787877ca45755716b73"
            ]
          }
        },
        "85dd0a5e2002451690eeede2cf9c8934": {
          "model_module": "@jupyter-widgets/base",
          "model_name": "LayoutModel",
          "state": {
            "_view_name": "LayoutView",
            "grid_template_rows": null,
            "right": null,
            "justify_content": null,
            "_view_module": "@jupyter-widgets/base",
            "overflow": null,
            "_model_module_version": "1.2.0",
            "_view_count": null,
            "flex_flow": null,
            "width": null,
            "min_width": null,
            "border": null,
            "align_items": null,
            "bottom": null,
            "_model_module": "@jupyter-widgets/base",
            "top": null,
            "grid_column": null,
            "overflow_y": null,
            "overflow_x": null,
            "grid_auto_flow": null,
            "grid_area": null,
            "grid_template_columns": null,
            "flex": null,
            "_model_name": "LayoutModel",
            "justify_items": null,
            "grid_row": null,
            "max_height": null,
            "align_content": null,
            "visibility": null,
            "align_self": null,
            "height": null,
            "min_height": null,
            "padding": null,
            "grid_auto_rows": null,
            "grid_gap": null,
            "max_width": null,
            "order": null,
            "_view_module_version": "1.2.0",
            "grid_template_areas": null,
            "object_position": null,
            "object_fit": null,
            "grid_auto_columns": null,
            "margin": null,
            "display": null,
            "left": null
          }
        },
        "7cf819a63b9b427299bc89c37dda9160": {
          "model_module": "@jupyter-widgets/controls",
          "model_name": "FloatProgressModel",
          "state": {
            "_view_name": "ProgressView",
            "style": "IPY_MODEL_e87abc0c668a47c08d7238da3c939808",
            "_dom_classes": [],
            "description": "",
            "_model_name": "FloatProgressModel",
            "bar_style": "success",
            "max": 1,
            "_view_module": "@jupyter-widgets/controls",
            "_model_module_version": "1.5.0",
            "value": 1,
            "_view_count": null,
            "_view_module_version": "1.5.0",
            "orientation": "horizontal",
            "min": 0,
            "description_tooltip": null,
            "_model_module": "@jupyter-widgets/controls",
            "layout": "IPY_MODEL_4ddc619fc45e4162ab6e70fbd2871b48"
          }
        },
        "676c22d7ea994787877ca45755716b73": {
          "model_module": "@jupyter-widgets/controls",
          "model_name": "HTMLModel",
          "state": {
            "_view_name": "HTMLView",
            "style": "IPY_MODEL_1021101d50be4f0793c26ad3cd96121d",
            "_dom_classes": [],
            "description": "",
            "_model_name": "HTMLModel",
            "placeholder": "​",
            "_view_module": "@jupyter-widgets/controls",
            "_model_module_version": "1.5.0",
            "value": " 153727/? [00:19&lt;00:00, 8054.37it/s]",
            "_view_count": null,
            "_view_module_version": "1.5.0",
            "description_tooltip": null,
            "_model_module": "@jupyter-widgets/controls",
            "layout": "IPY_MODEL_e13c125e9e3b440f9c0fe8593da77a2b"
          }
        },
        "e87abc0c668a47c08d7238da3c939808": {
          "model_module": "@jupyter-widgets/controls",
          "model_name": "ProgressStyleModel",
          "state": {
            "_view_name": "StyleView",
            "_model_name": "ProgressStyleModel",
            "description_width": "initial",
            "_view_module": "@jupyter-widgets/base",
            "_model_module_version": "1.5.0",
            "_view_count": null,
            "_view_module_version": "1.2.0",
            "bar_color": null,
            "_model_module": "@jupyter-widgets/controls"
          }
        },
        "4ddc619fc45e4162ab6e70fbd2871b48": {
          "model_module": "@jupyter-widgets/base",
          "model_name": "LayoutModel",
          "state": {
            "_view_name": "LayoutView",
            "grid_template_rows": null,
            "right": null,
            "justify_content": null,
            "_view_module": "@jupyter-widgets/base",
            "overflow": null,
            "_model_module_version": "1.2.0",
            "_view_count": null,
            "flex_flow": null,
            "width": null,
            "min_width": null,
            "border": null,
            "align_items": null,
            "bottom": null,
            "_model_module": "@jupyter-widgets/base",
            "top": null,
            "grid_column": null,
            "overflow_y": null,
            "overflow_x": null,
            "grid_auto_flow": null,
            "grid_area": null,
            "grid_template_columns": null,
            "flex": null,
            "_model_name": "LayoutModel",
            "justify_items": null,
            "grid_row": null,
            "max_height": null,
            "align_content": null,
            "visibility": null,
            "align_self": null,
            "height": null,
            "min_height": null,
            "padding": null,
            "grid_auto_rows": null,
            "grid_gap": null,
            "max_width": null,
            "order": null,
            "_view_module_version": "1.2.0",
            "grid_template_areas": null,
            "object_position": null,
            "object_fit": null,
            "grid_auto_columns": null,
            "margin": null,
            "display": null,
            "left": null
          }
        },
        "1021101d50be4f0793c26ad3cd96121d": {
          "model_module": "@jupyter-widgets/controls",
          "model_name": "DescriptionStyleModel",
          "state": {
            "_view_name": "StyleView",
            "_model_name": "DescriptionStyleModel",
            "description_width": "",
            "_view_module": "@jupyter-widgets/base",
            "_model_module_version": "1.5.0",
            "_view_count": null,
            "_view_module_version": "1.2.0",
            "_model_module": "@jupyter-widgets/controls"
          }
        },
        "e13c125e9e3b440f9c0fe8593da77a2b": {
          "model_module": "@jupyter-widgets/base",
          "model_name": "LayoutModel",
          "state": {
            "_view_name": "LayoutView",
            "grid_template_rows": null,
            "right": null,
            "justify_content": null,
            "_view_module": "@jupyter-widgets/base",
            "overflow": null,
            "_model_module_version": "1.2.0",
            "_view_count": null,
            "flex_flow": null,
            "width": null,
            "min_width": null,
            "border": null,
            "align_items": null,
            "bottom": null,
            "_model_module": "@jupyter-widgets/base",
            "top": null,
            "grid_column": null,
            "overflow_y": null,
            "overflow_x": null,
            "grid_auto_flow": null,
            "grid_area": null,
            "grid_template_columns": null,
            "flex": null,
            "_model_name": "LayoutModel",
            "justify_items": null,
            "grid_row": null,
            "max_height": null,
            "align_content": null,
            "visibility": null,
            "align_self": null,
            "height": null,
            "min_height": null,
            "padding": null,
            "grid_auto_rows": null,
            "grid_gap": null,
            "max_width": null,
            "order": null,
            "_view_module_version": "1.2.0",
            "grid_template_areas": null,
            "object_position": null,
            "object_fit": null,
            "grid_auto_columns": null,
            "margin": null,
            "display": null,
            "left": null
          }
        },
        "98d8e106930348189cad00216db7e9df": {
          "model_module": "@jupyter-widgets/controls",
          "model_name": "HBoxModel",
          "state": {
            "_view_name": "HBoxView",
            "_dom_classes": [],
            "_model_name": "HBoxModel",
            "_view_module": "@jupyter-widgets/controls",
            "_model_module_version": "1.5.0",
            "_view_count": null,
            "_view_module_version": "1.5.0",
            "box_style": "",
            "layout": "IPY_MODEL_f21fda7750b348acb09c55a4c0d39a4a",
            "_model_module": "@jupyter-widgets/controls",
            "children": [
              "IPY_MODEL_3aa8101a1eb64d18a05633f8e1a8ef91",
              "IPY_MODEL_14f06c7198eb454e86f1c26cb8529e78"
            ]
          }
        },
        "f21fda7750b348acb09c55a4c0d39a4a": {
          "model_module": "@jupyter-widgets/base",
          "model_name": "LayoutModel",
          "state": {
            "_view_name": "LayoutView",
            "grid_template_rows": null,
            "right": null,
            "justify_content": null,
            "_view_module": "@jupyter-widgets/base",
            "overflow": null,
            "_model_module_version": "1.2.0",
            "_view_count": null,
            "flex_flow": null,
            "width": null,
            "min_width": null,
            "border": null,
            "align_items": null,
            "bottom": null,
            "_model_module": "@jupyter-widgets/base",
            "top": null,
            "grid_column": null,
            "overflow_y": null,
            "overflow_x": null,
            "grid_auto_flow": null,
            "grid_area": null,
            "grid_template_columns": null,
            "flex": null,
            "_model_name": "LayoutModel",
            "justify_items": null,
            "grid_row": null,
            "max_height": null,
            "align_content": null,
            "visibility": null,
            "align_self": null,
            "height": null,
            "min_height": null,
            "padding": null,
            "grid_auto_rows": null,
            "grid_gap": null,
            "max_width": null,
            "order": null,
            "_view_module_version": "1.2.0",
            "grid_template_areas": null,
            "object_position": null,
            "object_fit": null,
            "grid_auto_columns": null,
            "margin": null,
            "display": null,
            "left": null
          }
        },
        "3aa8101a1eb64d18a05633f8e1a8ef91": {
          "model_module": "@jupyter-widgets/controls",
          "model_name": "FloatProgressModel",
          "state": {
            "_view_name": "ProgressView",
            "style": "IPY_MODEL_4043400dcdb447d3ac73ae5d4c2a47ee",
            "_dom_classes": [],
            "description": "",
            "_model_name": "FloatProgressModel",
            "bar_style": "danger",
            "max": 1,
            "_view_module": "@jupyter-widgets/controls",
            "_model_module_version": "1.5.0",
            "value": 1,
            "_view_count": null,
            "_view_module_version": "1.5.0",
            "orientation": "horizontal",
            "min": 0,
            "description_tooltip": null,
            "_model_module": "@jupyter-widgets/controls",
            "layout": "IPY_MODEL_37b061ad77404ddcb7c83a382bfc8509"
          }
        },
        "14f06c7198eb454e86f1c26cb8529e78": {
          "model_module": "@jupyter-widgets/controls",
          "model_name": "HTMLModel",
          "state": {
            "_view_name": "HTMLView",
            "style": "IPY_MODEL_1f9f6971968642e5bc5b5f11ac375205",
            "_dom_classes": [],
            "description": "",
            "_model_name": "HTMLModel",
            "placeholder": "​",
            "_view_module": "@jupyter-widgets/controls",
            "_model_module_version": "1.5.0",
            "value": " 4521/? [00:00&lt;00:00, 7009.57it/s]",
            "_view_count": null,
            "_view_module_version": "1.5.0",
            "description_tooltip": null,
            "_model_module": "@jupyter-widgets/controls",
            "layout": "IPY_MODEL_8ec2b7d7ed10472c9db06d49d51833c3"
          }
        },
        "4043400dcdb447d3ac73ae5d4c2a47ee": {
          "model_module": "@jupyter-widgets/controls",
          "model_name": "ProgressStyleModel",
          "state": {
            "_view_name": "StyleView",
            "_model_name": "ProgressStyleModel",
            "description_width": "initial",
            "_view_module": "@jupyter-widgets/base",
            "_model_module_version": "1.5.0",
            "_view_count": null,
            "_view_module_version": "1.2.0",
            "bar_color": null,
            "_model_module": "@jupyter-widgets/controls"
          }
        },
        "37b061ad77404ddcb7c83a382bfc8509": {
          "model_module": "@jupyter-widgets/base",
          "model_name": "LayoutModel",
          "state": {
            "_view_name": "LayoutView",
            "grid_template_rows": null,
            "right": null,
            "justify_content": null,
            "_view_module": "@jupyter-widgets/base",
            "overflow": null,
            "_model_module_version": "1.2.0",
            "_view_count": null,
            "flex_flow": null,
            "width": null,
            "min_width": null,
            "border": null,
            "align_items": null,
            "bottom": null,
            "_model_module": "@jupyter-widgets/base",
            "top": null,
            "grid_column": null,
            "overflow_y": null,
            "overflow_x": null,
            "grid_auto_flow": null,
            "grid_area": null,
            "grid_template_columns": null,
            "flex": null,
            "_model_name": "LayoutModel",
            "justify_items": null,
            "grid_row": null,
            "max_height": null,
            "align_content": null,
            "visibility": null,
            "align_self": null,
            "height": null,
            "min_height": null,
            "padding": null,
            "grid_auto_rows": null,
            "grid_gap": null,
            "max_width": null,
            "order": null,
            "_view_module_version": "1.2.0",
            "grid_template_areas": null,
            "object_position": null,
            "object_fit": null,
            "grid_auto_columns": null,
            "margin": null,
            "display": null,
            "left": null
          }
        },
        "1f9f6971968642e5bc5b5f11ac375205": {
          "model_module": "@jupyter-widgets/controls",
          "model_name": "DescriptionStyleModel",
          "state": {
            "_view_name": "StyleView",
            "_model_name": "DescriptionStyleModel",
            "description_width": "",
            "_view_module": "@jupyter-widgets/base",
            "_model_module_version": "1.5.0",
            "_view_count": null,
            "_view_module_version": "1.2.0",
            "_model_module": "@jupyter-widgets/controls"
          }
        },
        "8ec2b7d7ed10472c9db06d49d51833c3": {
          "model_module": "@jupyter-widgets/base",
          "model_name": "LayoutModel",
          "state": {
            "_view_name": "LayoutView",
            "grid_template_rows": null,
            "right": null,
            "justify_content": null,
            "_view_module": "@jupyter-widgets/base",
            "overflow": null,
            "_model_module_version": "1.2.0",
            "_view_count": null,
            "flex_flow": null,
            "width": null,
            "min_width": null,
            "border": null,
            "align_items": null,
            "bottom": null,
            "_model_module": "@jupyter-widgets/base",
            "top": null,
            "grid_column": null,
            "overflow_y": null,
            "overflow_x": null,
            "grid_auto_flow": null,
            "grid_area": null,
            "grid_template_columns": null,
            "flex": null,
            "_model_name": "LayoutModel",
            "justify_items": null,
            "grid_row": null,
            "max_height": null,
            "align_content": null,
            "visibility": null,
            "align_self": null,
            "height": null,
            "min_height": null,
            "padding": null,
            "grid_auto_rows": null,
            "grid_gap": null,
            "max_width": null,
            "order": null,
            "_view_module_version": "1.2.0",
            "grid_template_areas": null,
            "object_position": null,
            "object_fit": null,
            "grid_auto_columns": null,
            "margin": null,
            "display": null,
            "left": null
          }
        }
      }
    },
    "accelerator": "GPU"
  },
  "cells": [
    {
      "cell_type": "markdown",
      "metadata": {
        "id": "VUlT5L0-mEhi"
      },
      "source": [
        "# In the Name of Allah\r\n",
        "\r\n",
        "Pattern Final Project\r\n",
        "\r\n",
        "Author: Ali Asghar Taghizadeh\r\n",
        "\r\n",
        "Student number: 98922004\r\n",
        "\r\n",
        "Date: 1399/11/15"
      ]
    },
    {
      "cell_type": "markdown",
      "metadata": {
        "id": "YhnbZIVFmI7I"
      },
      "source": [
        "# Imports"
      ]
    },
    {
      "cell_type": "code",
      "metadata": {
        "id": "XhC0ttjmrVvX"
      },
      "source": [
        "%%capture\r\n",
        "!pip install transformers"
      ],
      "execution_count": 1,
      "outputs": []
    },
    {
      "cell_type": "code",
      "metadata": {
        "id": "da5jHCxhl-R1"
      },
      "source": [
        "from collections import Counter\r\n",
        "\r\n",
        "import torch\r\n",
        "import torch.nn as nn\r\n",
        "import torch.nn.functional as F\r\n",
        "import torch.optim as optim\r\n",
        "from torch.utils.data import Dataset, DataLoader, TensorDataset\r\n",
        "from torch.nn.utils.rnn import pad_sequence\r\n",
        "from torchsummary import summary\r\n",
        "\r\n",
        "\r\n",
        "import pandas as pd\r\n",
        "import transformers\r\n",
        "from tqdm.notebook import tqdm\r\n",
        "import pickle\r\n",
        "import numpy as np\r\n",
        "from time import time\r\n",
        "\r\n",
        "import matplotlib.pyplot as plt\r\n",
        "%matplotlib inline\r\n",
        "\r\n",
        "from sklearn.utils.class_weight import compute_class_weight"
      ],
      "execution_count": 2,
      "outputs": []
    },
    {
      "cell_type": "markdown",
      "metadata": {
        "id": "HfdSFAGgmiTe"
      },
      "source": [
        "# Dataset"
      ]
    },
    {
      "cell_type": "code",
      "metadata": {
        "id": "bZ3NZemCmiDG",
        "colab": {
          "base_uri": "https://localhost:8080/"
        },
        "outputId": "7503cb16-91a2-4d20-dfe1-a174023c2185"
      },
      "source": [
        "!wget https://mind201910small.blob.core.windows.net/release/MINDsmall_train.zip\r\n",
        "!wget https://mind201910small.blob.core.windows.net/release/MINDsmall_dev.zip\r\n",
        "!unzip MINDsmall_train.zip -d train\r\n",
        "!unzip MINDsmall_dev.zip -d dev"
      ],
      "execution_count": 3,
      "outputs": [
        {
          "output_type": "stream",
          "text": [
            "--2021-02-03 08:33:24--  https://mind201910small.blob.core.windows.net/release/MINDsmall_train.zip\n",
            "Resolving mind201910small.blob.core.windows.net (mind201910small.blob.core.windows.net)... 20.150.34.36\n",
            "Connecting to mind201910small.blob.core.windows.net (mind201910small.blob.core.windows.net)|20.150.34.36|:443... connected.\n",
            "HTTP request sent, awaiting response... 200 OK\n",
            "Length: 52952752 (50M) [application/octet-stream]\n",
            "Saving to: ‘MINDsmall_train.zip’\n",
            "\n",
            "MINDsmall_train.zip 100%[===================>]  50.50M  10.6MB/s    in 5.1s    \n",
            "\n",
            "2021-02-03 08:33:29 (9.97 MB/s) - ‘MINDsmall_train.zip’ saved [52952752/52952752]\n",
            "\n",
            "--2021-02-03 08:33:29--  https://mind201910small.blob.core.windows.net/release/MINDsmall_dev.zip\n",
            "Resolving mind201910small.blob.core.windows.net (mind201910small.blob.core.windows.net)... 20.150.34.36\n",
            "Connecting to mind201910small.blob.core.windows.net (mind201910small.blob.core.windows.net)|20.150.34.36|:443... connected.\n",
            "HTTP request sent, awaiting response... 200 OK\n",
            "Length: 30945572 (30M) [application/octet-stream]\n",
            "Saving to: ‘MINDsmall_dev.zip’\n",
            "\n",
            "MINDsmall_dev.zip   100%[===================>]  29.51M  10.3MB/s    in 2.9s    \n",
            "\n",
            "2021-02-03 08:33:32 (10.3 MB/s) - ‘MINDsmall_dev.zip’ saved [30945572/30945572]\n",
            "\n",
            "Archive:  MINDsmall_train.zip\n",
            "  inflating: train/behaviors.tsv     \n",
            "  inflating: train/entity_embedding.vec  \n",
            "  inflating: train/news.tsv          \n",
            "  inflating: train/relation_embedding.vec  \n",
            "Archive:  MINDsmall_dev.zip\n",
            "  inflating: dev/behaviors.tsv       \n",
            "  inflating: dev/entity_embedding.vec  \n",
            "  inflating: dev/news.tsv            \n",
            "  inflating: dev/relation_embedding.vec  \n"
          ],
          "name": "stdout"
        }
      ]
    },
    {
      "cell_type": "code",
      "metadata": {
        "id": "fNT61t4bn2En"
      },
      "source": [
        "train_behaviours = pd.read_csv('train/behaviors.tsv', delimiter='\\t', names=['impression id', 'user id', 'date', 'history', 'impressions']).dropna()\r\n",
        "train_news = pd.read_csv('train/news.tsv', delimiter='\\t', names=['news id', 'category', 'subcategory', 'title', 'abstarct', 'url', 'title entities', 'abstract entities']).dropna()\r\n",
        "\r\n",
        "valid_behaviours = pd.read_csv('dev/behaviors.tsv', delimiter='\\t', names=['impression id', 'user id', 'date', 'history', 'impressions']).dropna()\r\n",
        "valid_news = pd.read_csv('dev/news.tsv', delimiter='\\t',  names=['news id', 'category', 'subcategory', 'title', 'abstarct', 'url', 'title entities', 'abstract entities']).dropna()"
      ],
      "execution_count": 3,
      "outputs": []
    },
    {
      "cell_type": "code",
      "metadata": {
        "colab": {
          "base_uri": "https://localhost:8080/",
          "height": 195
        },
        "id": "hD8ifDjKofrV",
        "outputId": "a647ccb8-20ac-4681-c6bf-325f2816c815"
      },
      "source": [
        "valid_behaviour.head()"
      ],
      "execution_count": null,
      "outputs": [
        {
          "output_type": "execute_result",
          "data": {
            "text/html": [
              "<div>\n",
              "<style scoped>\n",
              "    .dataframe tbody tr th:only-of-type {\n",
              "        vertical-align: middle;\n",
              "    }\n",
              "\n",
              "    .dataframe tbody tr th {\n",
              "        vertical-align: top;\n",
              "    }\n",
              "\n",
              "    .dataframe thead th {\n",
              "        text-align: right;\n",
              "    }\n",
              "</style>\n",
              "<table border=\"1\" class=\"dataframe\">\n",
              "  <thead>\n",
              "    <tr style=\"text-align: right;\">\n",
              "      <th></th>\n",
              "      <th>impression id</th>\n",
              "      <th>user id</th>\n",
              "      <th>date</th>\n",
              "      <th>history</th>\n",
              "      <th>impressions</th>\n",
              "    </tr>\n",
              "  </thead>\n",
              "  <tbody>\n",
              "    <tr>\n",
              "      <th>0</th>\n",
              "      <td>1</td>\n",
              "      <td>U80234</td>\n",
              "      <td>11/15/2019 12:37:50 PM</td>\n",
              "      <td>N55189 N46039 N51741 N53234 N11276 N264 N40716...</td>\n",
              "      <td>N28682-0 N48740-0 N31958-1 N34130-0 N6916-0 N5...</td>\n",
              "    </tr>\n",
              "    <tr>\n",
              "      <th>1</th>\n",
              "      <td>2</td>\n",
              "      <td>U60458</td>\n",
              "      <td>11/15/2019 7:11:50 AM</td>\n",
              "      <td>N58715 N32109 N51180 N33438 N54827 N28488 N611...</td>\n",
              "      <td>N20036-0 N23513-1 N32536-0 N46976-0 N35216-0 N...</td>\n",
              "    </tr>\n",
              "    <tr>\n",
              "      <th>2</th>\n",
              "      <td>3</td>\n",
              "      <td>U44190</td>\n",
              "      <td>11/15/2019 9:55:12 AM</td>\n",
              "      <td>N56253 N1150 N55189 N16233 N61704 N51706 N5303...</td>\n",
              "      <td>N36779-0 N62365-0 N58098-0 N5472-0 N13408-0 N5...</td>\n",
              "    </tr>\n",
              "    <tr>\n",
              "      <th>3</th>\n",
              "      <td>4</td>\n",
              "      <td>U87380</td>\n",
              "      <td>11/15/2019 3:12:46 PM</td>\n",
              "      <td>N63554 N49153 N28678 N23232 N43369 N58518 N444...</td>\n",
              "      <td>N6950-0 N60215-0 N6074-0 N11930-0 N6916-0 N248...</td>\n",
              "    </tr>\n",
              "    <tr>\n",
              "      <th>4</th>\n",
              "      <td>5</td>\n",
              "      <td>U9444</td>\n",
              "      <td>11/15/2019 8:25:46 AM</td>\n",
              "      <td>N51692 N18285 N26015 N22679 N55556</td>\n",
              "      <td>N5940-1 N23513-0 N49285-0 N23355-0 N19990-0 N3...</td>\n",
              "    </tr>\n",
              "  </tbody>\n",
              "</table>\n",
              "</div>"
            ],
            "text/plain": [
              "   impression id  ...                                        impressions\n",
              "0              1  ...  N28682-0 N48740-0 N31958-1 N34130-0 N6916-0 N5...\n",
              "1              2  ...  N20036-0 N23513-1 N32536-0 N46976-0 N35216-0 N...\n",
              "2              3  ...  N36779-0 N62365-0 N58098-0 N5472-0 N13408-0 N5...\n",
              "3              4  ...  N6950-0 N60215-0 N6074-0 N11930-0 N6916-0 N248...\n",
              "4              5  ...  N5940-1 N23513-0 N49285-0 N23355-0 N19990-0 N3...\n",
              "\n",
              "[5 rows x 5 columns]"
            ]
          },
          "metadata": {
            "tags": []
          },
          "execution_count": 6
        }
      ]
    },
    {
      "cell_type": "code",
      "metadata": {
        "colab": {
          "base_uri": "https://localhost:8080/",
          "height": 514
        },
        "id": "AN-SJOVnp0tr",
        "outputId": "330a061e-700a-4476-efff-9e2def69f277"
      },
      "source": [
        "train_news.head()"
      ],
      "execution_count": null,
      "outputs": [
        {
          "output_type": "execute_result",
          "data": {
            "text/html": [
              "<div>\n",
              "<style scoped>\n",
              "    .dataframe tbody tr th:only-of-type {\n",
              "        vertical-align: middle;\n",
              "    }\n",
              "\n",
              "    .dataframe tbody tr th {\n",
              "        vertical-align: top;\n",
              "    }\n",
              "\n",
              "    .dataframe thead th {\n",
              "        text-align: right;\n",
              "    }\n",
              "</style>\n",
              "<table border=\"1\" class=\"dataframe\">\n",
              "  <thead>\n",
              "    <tr style=\"text-align: right;\">\n",
              "      <th></th>\n",
              "      <th>news id</th>\n",
              "      <th>category</th>\n",
              "      <th>subcategory</th>\n",
              "      <th>title</th>\n",
              "      <th>abstarct</th>\n",
              "      <th>url</th>\n",
              "      <th>title entities</th>\n",
              "      <th>abstract entities</th>\n",
              "    </tr>\n",
              "  </thead>\n",
              "  <tbody>\n",
              "    <tr>\n",
              "      <th>0</th>\n",
              "      <td>N55528</td>\n",
              "      <td>lifestyle</td>\n",
              "      <td>lifestyleroyals</td>\n",
              "      <td>The Brands Queen Elizabeth, Prince Charles, an...</td>\n",
              "      <td>Shop the notebooks, jackets, and more that the...</td>\n",
              "      <td>https://assets.msn.com/labs/mind/AAGH0ET.html</td>\n",
              "      <td>[{\"Label\": \"Prince Philip, Duke of Edinburgh\",...</td>\n",
              "      <td>[]</td>\n",
              "    </tr>\n",
              "    <tr>\n",
              "      <th>1</th>\n",
              "      <td>N19639</td>\n",
              "      <td>health</td>\n",
              "      <td>weightloss</td>\n",
              "      <td>50 Worst Habits For Belly Fat</td>\n",
              "      <td>These seemingly harmless habits are holding yo...</td>\n",
              "      <td>https://assets.msn.com/labs/mind/AAB19MK.html</td>\n",
              "      <td>[{\"Label\": \"Adipose tissue\", \"Type\": \"C\", \"Wik...</td>\n",
              "      <td>[{\"Label\": \"Adipose tissue\", \"Type\": \"C\", \"Wik...</td>\n",
              "    </tr>\n",
              "    <tr>\n",
              "      <th>2</th>\n",
              "      <td>N61837</td>\n",
              "      <td>news</td>\n",
              "      <td>newsworld</td>\n",
              "      <td>The Cost of Trump's Aid Freeze in the Trenches...</td>\n",
              "      <td>Lt. Ivan Molchanets peeked over a parapet of s...</td>\n",
              "      <td>https://assets.msn.com/labs/mind/AAJgNsz.html</td>\n",
              "      <td>[]</td>\n",
              "      <td>[{\"Label\": \"Ukraine\", \"Type\": \"G\", \"WikidataId...</td>\n",
              "    </tr>\n",
              "    <tr>\n",
              "      <th>3</th>\n",
              "      <td>N53526</td>\n",
              "      <td>health</td>\n",
              "      <td>voices</td>\n",
              "      <td>I Was An NBA Wife. Here's How It Affected My M...</td>\n",
              "      <td>I felt like I was a fraud, and being an NBA wi...</td>\n",
              "      <td>https://assets.msn.com/labs/mind/AACk2N6.html</td>\n",
              "      <td>[]</td>\n",
              "      <td>[{\"Label\": \"National Basketball Association\", ...</td>\n",
              "    </tr>\n",
              "    <tr>\n",
              "      <th>4</th>\n",
              "      <td>N38324</td>\n",
              "      <td>health</td>\n",
              "      <td>medical</td>\n",
              "      <td>How to Get Rid of Skin Tags, According to a De...</td>\n",
              "      <td>They seem harmless, but there's a very good re...</td>\n",
              "      <td>https://assets.msn.com/labs/mind/AAAKEkt.html</td>\n",
              "      <td>[{\"Label\": \"Skin tag\", \"Type\": \"C\", \"WikidataI...</td>\n",
              "      <td>[{\"Label\": \"Skin tag\", \"Type\": \"C\", \"WikidataI...</td>\n",
              "    </tr>\n",
              "  </tbody>\n",
              "</table>\n",
              "</div>"
            ],
            "text/plain": [
              "  news id  ...                                  abstract entities\n",
              "0  N55528  ...                                                 []\n",
              "1  N19639  ...  [{\"Label\": \"Adipose tissue\", \"Type\": \"C\", \"Wik...\n",
              "2  N61837  ...  [{\"Label\": \"Ukraine\", \"Type\": \"G\", \"WikidataId...\n",
              "3  N53526  ...  [{\"Label\": \"National Basketball Association\", ...\n",
              "4  N38324  ...  [{\"Label\": \"Skin tag\", \"Type\": \"C\", \"WikidataI...\n",
              "\n",
              "[5 rows x 8 columns]"
            ]
          },
          "metadata": {
            "tags": []
          },
          "execution_count": 7
        }
      ]
    },
    {
      "cell_type": "code",
      "metadata": {
        "id": "vf9uI8BfqGWn"
      },
      "source": [
        "%%capture\r\n",
        "from transformers import AutoModel, AutoTokenizer\r\n",
        "model = AutoModel.from_pretrained('roberta-base')\r\n",
        "tokenizer = AutoTokenizer.from_pretrained('roberta-base')\r\n",
        "model.to('cuda')"
      ],
      "execution_count": 11,
      "outputs": []
    },
    {
      "cell_type": "markdown",
      "metadata": {
        "id": "DJdX3vcaAqcS"
      },
      "source": [
        ""
      ]
    },
    {
      "cell_type": "code",
      "metadata": {
        "id": "tQ3bG9QtuIAt"
      },
      "source": [
        "train_news_vectors = {}\r\n",
        "with torch.no_grad():\r\n",
        "    for i, row in tqdm(train_news.iterrows(), total=train_news.shape[0]):\r\n",
        "        inputs_title = tokenizer(row['title'], return_tensors=\"pt\", max_length=512, truncation=True)\r\n",
        "        inputs_title.to('cuda')\r\n",
        "        outputs_title = model(**inputs_title).pooler_output        \r\n",
        "        inputs_abstract = tokenizer(row['abstarct'], return_tensors=\"pt\", max_length=512,truncation=True)\r\n",
        "        inputs_abstract.to('cuda')\r\n",
        "        outputs_abstract = model(**inputs_abstract).pooler_output\r\n",
        "        train_news_vectors[row['news id']] = [outputs_title, outputs_abstract]\r\n",
        "pickle.dump(train_news_vectors, open('/content/drive/MyDrive/pattern_proj/train_news_vectors.pkl', 'wb'))"
      ],
      "execution_count": null,
      "outputs": []
    },
    {
      "cell_type": "code",
      "metadata": {
        "id": "w9nhJ5NTCSat"
      },
      "source": [
        "train_news_vectors = pickle.load(open('/content/drive/MyDrive/pattern_proj/train_news_vectors.pkl', 'rb'))"
      ],
      "execution_count": 4,
      "outputs": []
    },
    {
      "cell_type": "code",
      "metadata": {
        "colab": {
          "base_uri": "https://localhost:8080/"
        },
        "id": "x6SGbsEpPpF2",
        "outputId": "c4c55d6e-4ff0-4211-dfec-7c2a0251af0b"
      },
      "source": [
        "print(len(train_news_vectors))"
      ],
      "execution_count": null,
      "outputs": [
        {
          "output_type": "stream",
          "text": [
            "48612\n"
          ],
          "name": "stdout"
        }
      ]
    },
    {
      "cell_type": "code",
      "metadata": {
        "colab": {
          "base_uri": "https://localhost:8080/",
          "height": 66,
          "referenced_widgets": [
            "82f6eb471d6c4af8aef0eaa10f18213c",
            "6920eb19347845979112976299a3844f",
            "62b92e34543d4a99949b754608f4b07a",
            "4cb0eeba06714072a290bd806df57f6e",
            "5833698c455e4efab04eaa42aa3ae165",
            "f3cff9eea7a34c4dbb4dcab3d3bd23a8",
            "17c3a2a8d86646078309b0baf8d42f95",
            "5453498644b24903931e1cea0cc0d7ac"
          ]
        },
        "id": "8ycnUHUG8Ysf",
        "outputId": "6599bc1a-840d-4642-bf71-1b97ff91773c"
      },
      "source": [
        "valid_news_vectors = {}\r\n",
        "with torch.no_grad():\r\n",
        "    for i, row in tqdm(valid_news.iterrows(), total=valid_news.shape[0]):\r\n",
        "        inputs_title = tokenizer(row['title'], return_tensors=\"pt\", max_length=512, truncation=True)\r\n",
        "        inputs_title.to('cuda')\r\n",
        "        outputs_title = model(**inputs_title).pooler_output        \r\n",
        "        inputs_abstract = tokenizer(row['abstarct'], return_tensors=\"pt\", max_length=512,truncation=True)\r\n",
        "        inputs_abstract.to('cuda')\r\n",
        "        outputs_abstract = model(**inputs_abstract).pooler_output\r\n",
        "        valid_news_vectors[row['news id']] = [outputs_title, outputs_abstract]\r\n",
        "pickle.dump(valid_news_vectors, open('/content/drive/MyDrive/pattern_proj/valid_news_vectors.pkl', 'wb'))"
      ],
      "execution_count": null,
      "outputs": [
        {
          "output_type": "display_data",
          "data": {
            "application/vnd.jupyter.widget-view+json": {
              "model_id": "82f6eb471d6c4af8aef0eaa10f18213c",
              "version_minor": 0,
              "version_major": 2
            },
            "text/plain": [
              "HBox(children=(FloatProgress(value=0.0, max=40393.0), HTML(value='')))"
            ]
          },
          "metadata": {
            "tags": []
          }
        },
        {
          "output_type": "stream",
          "text": [
            "\n"
          ],
          "name": "stdout"
        }
      ]
    },
    {
      "cell_type": "code",
      "metadata": {
        "id": "4TgOmxZ50SZG"
      },
      "source": [
        "valid_news_vectors = pickle.load(open('/content/drive/MyDrive/pattern_proj/valid_news_vectors.pkl', 'rb'))"
      ],
      "execution_count": 5,
      "outputs": []
    },
    {
      "cell_type": "code",
      "metadata": {
        "id": "9T4WYruIPlFw"
      },
      "source": [
        "train_news_vectors.update(valid_news_vectors)"
      ],
      "execution_count": 14,
      "outputs": []
    },
    {
      "cell_type": "code",
      "metadata": {
        "id": "BlmSgLn6P0bs"
      },
      "source": [
        "# as news ids are string we need to convert them to integers\r\n",
        "news_to_index = {} \r\n",
        "titles_weights= torch.zeros((len(train_news_vectors)+1, 768))\r\n",
        "abstracts_weights = torch.zeros((len(train_news_vectors)+1, 768))\r\n",
        "for i, (k,v) in enumerate(train_news_vectors.items()):\r\n",
        "    news_to_index[k] = i+1\r\n",
        "    titles_weights[i+1] = v[0][0]\r\n",
        "    abstracts_weights[i+1] = v[1][0]"
      ],
      "execution_count": 15,
      "outputs": []
    },
    {
      "cell_type": "code",
      "metadata": {
        "colab": {
          "base_uri": "https://localhost:8080/"
        },
        "id": "H3f8eS-sIVqZ",
        "outputId": "88d1aba7-faa8-4efc-c7b9-e10177a80ae1"
      },
      "source": [
        "print(titles_weights.shape)\r\n",
        "print(abstracts_weights.shape)"
      ],
      "execution_count": 11,
      "outputs": [
        {
          "output_type": "stream",
          "text": [
            "torch.Size([61820, 768])\n",
            "torch.Size([61820, 768])\n"
          ],
          "name": "stdout"
        }
      ]
    },
    {
      "cell_type": "code",
      "metadata": {
        "id": "yDkJo3EkR2B4"
      },
      "source": [
        "import random\r\n",
        "def convert_to_samples(behavaiors, max_samples=600000):\r\n",
        "    all_histories = []\r\n",
        "    all_impressions = []\r\n",
        "    all_labels = []\r\n",
        "    for i, row in tqdm(behavaiors.iterrows()):\r\n",
        "        histories = row['history'].split()\r\n",
        "        histories_index = [news_to_index[h] for h in histories if h in news_to_index]\r\n",
        "        impressions = row['impressions'].split()\r\n",
        "        if len(histories_index) == 0:\r\n",
        "            continue\r\n",
        "        if len(histories) < 10 or len(histories)>100:\r\n",
        "            continue\r\n",
        "        for imp in impressions:\r\n",
        "            imp, label = imp.split('-')\r\n",
        "            if imp not in news_to_index:\r\n",
        "                continue\r\n",
        "            if label == '0':\r\n",
        "                if random.random() < 0.95:\r\n",
        "                    continue\r\n",
        "            all_impressions.append(news_to_index[imp])\r\n",
        "            all_labels.append(int(label))\r\n",
        "            all_histories.append(histories_index)\r\n",
        "\r\n",
        "        if len(all_histories) >= max_samples:\r\n",
        "            break\r\n",
        "    return all_histories, all_impressions, all_labels\r\n",
        "\r\n",
        "def sort(data):\r\n",
        "    data = zip(*data)\r\n",
        "    data = sorted(data, key=lambda x:len(x[0]), reverse=True)\r\n",
        "    return zip(*data)"
      ],
      "execution_count": 110,
      "outputs": []
    },
    {
      "cell_type": "code",
      "metadata": {
        "colab": {
          "base_uri": "https://localhost:8080/",
          "height": 82,
          "referenced_widgets": [
            "02c134ec15a14d7cb7b3d64ebb18f333",
            "85dd0a5e2002451690eeede2cf9c8934",
            "7cf819a63b9b427299bc89c37dda9160",
            "676c22d7ea994787877ca45755716b73",
            "e87abc0c668a47c08d7238da3c939808",
            "4ddc619fc45e4162ab6e70fbd2871b48",
            "1021101d50be4f0793c26ad3cd96121d",
            "e13c125e9e3b440f9c0fe8593da77a2b"
          ]
        },
        "id": "l8eaNWs2qLpV",
        "outputId": "3e48afb1-171f-46a1-8e9f-42f5a09e5e3c"
      },
      "source": [
        "train_data = convert_to_samples(train_behaviours, max_samples=1000000)\r\n",
        "train_histories, train_impressions, train_labels = sort(train_data) # sorting data based on length of content is good for training\r\n",
        "print(f'size of training data {len(train_histories)}')"
      ],
      "execution_count": 111,
      "outputs": [
        {
          "output_type": "display_data",
          "data": {
            "application/vnd.jupyter.widget-view+json": {
              "model_id": "02c134ec15a14d7cb7b3d64ebb18f333",
              "version_minor": 0,
              "version_major": 2
            },
            "text/plain": [
              "HBox(children=(FloatProgress(value=1.0, bar_style='info', max=1.0), HTML(value='')))"
            ]
          },
          "metadata": {
            "tags": []
          }
        },
        {
          "output_type": "stream",
          "text": [
            "\n",
            "size of training data 326341\n"
          ],
          "name": "stdout"
        }
      ]
    },
    {
      "cell_type": "code",
      "metadata": {
        "colab": {
          "base_uri": "https://localhost:8080/",
          "height": 99,
          "referenced_widgets": [
            "98d8e106930348189cad00216db7e9df",
            "f21fda7750b348acb09c55a4c0d39a4a",
            "3aa8101a1eb64d18a05633f8e1a8ef91",
            "14f06c7198eb454e86f1c26cb8529e78",
            "4043400dcdb447d3ac73ae5d4c2a47ee",
            "37b061ad77404ddcb7c83a382bfc8509",
            "1f9f6971968642e5bc5b5f11ac375205",
            "8ec2b7d7ed10472c9db06d49d51833c3"
          ]
        },
        "id": "1CAMQxXC2WzF",
        "outputId": "48669adb-a79a-4e3b-b668-c5325b82ade2"
      },
      "source": [
        "my_histories, my_impressions, my_labels = convert_to_samples(valid_behaviours, max_samples=10000)\r\n",
        "val_histories, val_impressions, val_labels = my_histories[:5000], my_impressions[:5000], my_labels[:5000]\r\n",
        "val_histories, val_impressions, val_labels = sort((val_histories, val_impressions, val_labels))\r\n",
        "\r\n",
        "\r\n",
        "test_histories, test_impressions, test_labels = my_histories[5000:], my_impressions[5000:], my_labels[5000:]\r\n",
        "test_histories, test_impressions, test_labels = sort((test_histories, test_impressions, test_labels))\r\n",
        "print(f'size of val data {len(val_histories)}')\r\n",
        "print(f'size of test data {len(test_histories)}')"
      ],
      "execution_count": 113,
      "outputs": [
        {
          "output_type": "display_data",
          "data": {
            "application/vnd.jupyter.widget-view+json": {
              "model_id": "98d8e106930348189cad00216db7e9df",
              "version_minor": 0,
              "version_major": 2
            },
            "text/plain": [
              "HBox(children=(FloatProgress(value=1.0, bar_style='info', max=1.0), HTML(value='')))"
            ]
          },
          "metadata": {
            "tags": []
          }
        },
        {
          "output_type": "stream",
          "text": [
            "\n",
            "size of val data 5000\n",
            "size of test data 5000\n"
          ],
          "name": "stdout"
        }
      ]
    },
    {
      "cell_type": "markdown",
      "metadata": {
        "id": "TlSZd0HXlI-I"
      },
      "source": [
        "### class distribution"
      ]
    },
    {
      "cell_type": "code",
      "metadata": {
        "colab": {
          "base_uri": "https://localhost:8080/",
          "height": 295
        },
        "id": "JlFo4jsSlIbj",
        "outputId": "8a626eed-6714-4a2c-9683-52d78d21d3c5"
      },
      "source": [
        "counts = Counter(train_labels)\r\n",
        "plt.bar([0, 1], [counts[0.0], counts[1.0]],color='green')\r\n",
        "plt.xticks([0, 1], ['negative', 'positive'])\r\n",
        "plt.xlabel(\"classes\")\r\n",
        "plt.ylabel(\"count\")\r\n",
        "plt.title(\"distribution of classes in training part\")\r\n",
        "plt.show()"
      ],
      "execution_count": 88,
      "outputs": [
        {
          "output_type": "display_data",
          "data": {
            "image/png": "[encoded data removed]",
            "text/plain": [
              "<Figure size 432x288 with 1 Axes>"
            ]
          },
          "metadata": {
            "tags": [],
            "needs_background": "light"
          }
        }
      ]
    },
    {
      "cell_type": "code",
      "metadata": {
        "colab": {
          "base_uri": "https://localhost:8080/"
        },
        "id": "Y9z4JEHKnkTb",
        "outputId": "9f4dd0b6-7c1a-4f0c-9d32-d59ef447fe5b"
      },
      "source": [
        "class_weights = compute_class_weight('balanced', np.unique(train_labels), train_labels)\r\n",
        "print(class_weights)"
      ],
      "execution_count": 89,
      "outputs": [
        {
          "output_type": "stream",
          "text": [
            "[0.91264653 1.1058454 ]\n"
          ],
          "name": "stdout"
        }
      ]
    },
    {
      "cell_type": "markdown",
      "metadata": {
        "id": "0p08CkQ2PhuI"
      },
      "source": [
        "# Model"
      ]
    },
    {
      "cell_type": "code",
      "metadata": {
        "id": "FmQUngXq9kRb"
      },
      "source": [
        "class LSTMRecom(nn.Module):\r\n",
        "\r\n",
        "    def __init__(self, embedding_weight_titles, embedding_weight_abs, hidden_dim, lstm_layers):\r\n",
        "        super(LSTMRecom, self).__init__()\r\n",
        "        self.hidden_dim = hidden_dim\r\n",
        "        self.lstm_layers = lstm_layers\r\n",
        "        \r\n",
        "        self.embeddings_title = self._create_embedding(embedding_weight_titles)\r\n",
        "        self.embeddings_abstract = self._create_embedding(embedding_weight_abs)\r\n",
        "\r\n",
        "        self.lstm_title = nn.LSTM(self.embedding_dim, hidden_dim, lstm_layers, batch_first=True)\r\n",
        "        self.lstm_abstract = nn.LSTM(self.embedding_dim, hidden_dim, lstm_layers, batch_first=True)\r\n",
        "        self.fc_merge_1 = nn.Linear(hidden_dim * 2, hidden_dim)\r\n",
        "\r\n",
        "        self.fc_imp_title = nn.Linear(self.embedding_dim, hidden_dim)\r\n",
        "        self.fc_imp_abs = nn.Linear(self.embedding_dim, hidden_dim)\r\n",
        "        self.fc_merge_2 = nn.Linear(hidden_dim * 2, hidden_dim)\r\n",
        "        \r\n",
        "        self.fc_clf = nn.Linear(hidden_dim * 2, 2)\r\n",
        "        self.softmax = nn.Softmax(dim=1)\r\n",
        "\r\n",
        "    def _create_embedding(self, embedding_weight, trainable=False):\r\n",
        "        num_embeddings, embedding_dim = embedding_weight.shape\r\n",
        "        self.embedding_dim = embedding_dim\r\n",
        "        emb_layer = nn.Embedding(num_embeddings, embedding_dim)\r\n",
        "        emb_layer.weights = torch.nn.Parameter(embedding_weight)\r\n",
        "        if trainable:\r\n",
        "            emb_layer.weight.requires_grad = True   \r\n",
        "        else:\r\n",
        "            emb_layer.weight.requires_grad = False\r\n",
        "        return emb_layer   \r\n",
        "\r\n",
        "\r\n",
        "    def init_hidden(self, batch_size):\r\n",
        "        weight = next(self.parameters()).data\r\n",
        "        hidden_title = (weight.new(self.lstm_layers, batch_size, self.hidden_dim).zero_().to('cuda'),\r\n",
        "                      weight.new(self.lstm_layers, batch_size, self.hidden_dim).zero_().to('cuda'))\r\n",
        "\r\n",
        "        weight = next(self.parameters()).data\r\n",
        "        hidden_abstract = (weight.new(1, batch_size, self.hidden_dim).zero_().to('cuda'),\r\n",
        "                      weight.new(1, batch_size, self.hidden_dim).zero_().to('cuda'))\r\n",
        "\r\n",
        "        return hidden_title, hidden_title\r\n",
        "\r\n",
        "    def forward(self, histories, impression, lengths, hidden_states_title=None, hidden_states_abs=None):\r\n",
        "        sequence_len = histories.size()[1]\r\n",
        "        titles_embed = self.embeddings_title(histories) #(batch, seq_len, embed_size)\r\n",
        "        titles_embed = torch.nn.utils.rnn.pack_padded_sequence(titles_embed, lengths.cpu(), batch_first=True)\r\n",
        "        lstm_out_title, _ = self.lstm_title(titles_embed, hidden_states_title) #(batch, seq_len, hidden_size)\r\n",
        "        lstm_out_title, _ = torch.nn.utils.rnn.pad_packed_sequence(lstm_out_title, batch_first=True)\r\n",
        "        lstm_out_title = lstm_out_title.sum(dim=1).div(sequence_len) #(batch , hidden_size)\r\n",
        "\r\n",
        "        abstracts_embed = self.embeddings_abstract(histories) #(batch, seq_len, embed_size)\r\n",
        "        abstracts_embed = torch.nn.utils.rnn.pack_padded_sequence(abstracts_embed, lengths.cpu(), batch_first=True)\r\n",
        "        lstm_out_abs, _ = self.lstm_abstract(abstracts_embed, hidden_states_abs) #(batch, seq_len, hidden_size)\r\n",
        "        lstm_out_abs, _ = torch.nn.utils.rnn.pad_packed_sequence(lstm_out_abs, batch_first=True)\r\n",
        "        lstm_out_abs = lstm_out_abs.sum(dim=1).div(sequence_len)  #(batch , hidden_size)\r\n",
        "\r\n",
        "        combined_title_abs = torch.cat([lstm_out_title, lstm_out_abs], dim=1) #(batch , 2*hidden_size)\r\n",
        "\r\n",
        "        out_merge_1 = self.fc_merge_1(combined_title_abs) #(batch , 128)\r\n",
        "\r\n",
        "\r\n",
        "        title_embed = self.embeddings_title(impression) # (batch, embed_size)\r\n",
        "        abstract_embed = self.embeddings_abstract(impression) # (batch, embed_size)\r\n",
        "\r\n",
        "        out_title = self.fc_imp_title(title_embed) # (batch, 128)\r\n",
        "        out_abs = self.fc_imp_abs(abstract_embed)  # (batch, 128)\r\n",
        "\r\n",
        "        combined_t_a = torch.cat([out_title, out_abs], dim=1) # (batch, 256)\r\n",
        "        out_merge_2 = self.fc_merge_2(combined_t_a) # (batch, 128)\r\n",
        "\r\n",
        "        combined = torch.cat([out_merge_1, out_merge_2], dim=1) \r\n",
        "        out = self.fc_clf(combined)\r\n",
        "        out = self.softmax(out)\r\n",
        "        return out"
      ],
      "execution_count": 149,
      "outputs": []
    },
    {
      "cell_type": "markdown",
      "metadata": {
        "id": "78hvTHgiVmY3"
      },
      "source": [
        "# Training"
      ]
    },
    {
      "cell_type": "code",
      "metadata": {
        "id": "Yqxn1D7tdwQi"
      },
      "source": [
        "def binary_accuracy(preds, y):\r\n",
        "    preds = preds.argmax(dim=1)\r\n",
        "    correct = (preds == y).float() \r\n",
        "    acc = correct.sum() / len(correct)\r\n",
        "    return acc"
      ],
      "execution_count": 150,
      "outputs": []
    },
    {
      "cell_type": "code",
      "metadata": {
        "id": "tdAAyUXp0Kbk"
      },
      "source": [
        "BATCH_SIZE = 64\r\n",
        "HIDDEN_DIM = 32\r\n",
        "LSTM_LAYERS = 5\r\n",
        "model = LSTMRecom(titles_weights, abstracts_weights, HIDDEN_DIM, LSTM_LAYERS)\r\n",
        "weight=torch.tensor(class_weights, dtype=torch.float32).to('cuda')\r\n",
        "loss_function = nn.CrossEntropyLoss()\r\n",
        "optimizer = optim.SGD(model.parameters(), lr=0.1)"
      ],
      "execution_count": 151,
      "outputs": []
    },
    {
      "cell_type": "code",
      "metadata": {
        "colab": {
          "base_uri": "https://localhost:8080/"
        },
        "id": "5POex0W9CHWP",
        "outputId": "908cf412-d535-4231-9c37-0733c8be10ea"
      },
      "source": [
        "model.to('cuda')"
      ],
      "execution_count": 152,
      "outputs": [
        {
          "output_type": "execute_result",
          "data": {
            "text/plain": [
              "LSTMRecom(\n",
              "  (embeddings_title): Embedding(61820, 768)\n",
              "  (embeddings_abstract): Embedding(61820, 768)\n",
              "  (lstm_title): LSTM(768, 32, num_layers=5, batch_first=True)\n",
              "  (lstm_abstract): LSTM(768, 32, num_layers=5, batch_first=True)\n",
              "  (fc_merge_1): Linear(in_features=64, out_features=32, bias=True)\n",
              "  (fc_imp_title): Linear(in_features=768, out_features=32, bias=True)\n",
              "  (fc_imp_abs): Linear(in_features=768, out_features=32, bias=True)\n",
              "  (fc_merge_2): Linear(in_features=64, out_features=32, bias=True)\n",
              "  (fc_clf): Linear(in_features=64, out_features=2, bias=True)\n",
              "  (softmax): Softmax(dim=1)\n",
              ")"
            ]
          },
          "metadata": {
            "tags": []
          },
          "execution_count": 152
        }
      ]
    },
    {
      "cell_type": "code",
      "metadata": {
        "colab": {
          "base_uri": "https://localhost:8080/"
        },
        "id": "LlrKI4fdtWkW",
        "outputId": "5c740f07-ae4c-4e73-8d53-6f17ea78c1a5"
      },
      "source": [
        "best_val_acc = 0\r\n",
        "epochs = 3\r\n",
        "for epoch in range(epochs):\r\n",
        "    hidden_states_title, hidden_states_abs = model.init_hidden(BATCH_SIZE)\r\n",
        "    # hidden_states_title, hidden_states_abs = None, None\r\n",
        "    time_diff = 0\r\n",
        "    epoch_loss = 0\r\n",
        "    epoch_acc = 0\r\n",
        "    val_acc = 0\r\n",
        "    val_loss = 0\r\n",
        "    total_batches = int(len(train_histories)/BATCH_SIZE)\r\n",
        "    for i_batch, i in enumerate(range(0, len(train_histories), BATCH_SIZE)):\r\n",
        "        t1 = time()\r\n",
        "        hists = train_histories[i:i+BATCH_SIZE]\r\n",
        "        if len(hists) < BATCH_SIZE:\r\n",
        "            continue\r\n",
        "        hists = [torch.tensor(h) for h in hists]\r\n",
        "        lenghts = [len(h) for h in hists]\r\n",
        "        lenghts = torch.tensor(lenghts, dtype=torch.int32)\r\n",
        "        hists = pad_sequence(hists, batch_first=True)\r\n",
        "        hists = hists.to('cuda')\r\n",
        "        imps = train_impressions[i:i+BATCH_SIZE]\r\n",
        "        imps = torch.tensor(imps)\r\n",
        "        imps = imps.to('cuda')\r\n",
        "        labels = train_labels[i:i+BATCH_SIZE]\r\n",
        "        labels = torch.tensor(labels)\r\n",
        "        labels = labels.to('cuda')\r\n",
        "        model.zero_grad()\r\n",
        "        preds = model(hists, imps, lenghts, hidden_states_title, hidden_states_abs)\r\n",
        "        loss = loss_function(preds, labels)\r\n",
        "        acc = binary_accuracy(preds, labels)\r\n",
        "        epoch_loss += loss\r\n",
        "        epoch_acc += acc\r\n",
        "        loss.backward()\r\n",
        "        torch.nn.utils.clip_grad_norm_(model.parameters(), 0.5)\r\n",
        "        optimizer.step()\r\n",
        "        time_diff = time()-t1\r\n",
        "        remaining_time = time_diff*total_batches-time_diff*(i_batch)\r\n",
        "        print('\\r>> epoch {}, batch {}/{}, remaining time {:.5f}s, loss {:.5f}, acc {:.5f}, val loss {:.5f}, val acc {:.5f}'\r\n",
        "        .format(epoch, i_batch, total_batches, remaining_time, loss, acc, val_loss, val_acc), end='')\r\n",
        "\r\n",
        "        if i_batch % 100 == 0:\r\n",
        "            val_loss = 0\r\n",
        "            with torch.no_grad():\r\n",
        "                loss = 0\r\n",
        "                steps = int(len(val_histories)/BATCH_SIZE)\r\n",
        "                for j in range(0, len(val_histories), BATCH_SIZE):\r\n",
        "                    hists = val_histories[j:j+BATCH_SIZE]\r\n",
        "                    hists = [torch.tensor(h) for h in hists]\r\n",
        "                    lenghts = [len(h) for h in hists]\r\n",
        "                    lenghts = torch.tensor(lenghts, dtype=torch.int32)\r\n",
        "                    hists = pad_sequence(hists, batch_first=True)\r\n",
        "                    hists = hists.to('cuda')\r\n",
        "                    imps = val_impressions[j:j+BATCH_SIZE]\r\n",
        "                    imps = torch.tensor(imps)\r\n",
        "                    imps = imps.to('cuda')\r\n",
        "                    labels = val_labels[j:j+BATCH_SIZE]\r\n",
        "                    labels = torch.tensor(labels)\r\n",
        "                    labels = labels.to('cuda')\r\n",
        "                    tag_scores = model(hists, imps, lenghts)\r\n",
        "                    val_loss += loss_function(tag_scores, labels)\r\n",
        "                    val_acc += binary_accuracy(tag_scores, labels)\r\n",
        "            val_loss /= steps\r\n",
        "            val_acc /= steps\r\n",
        "            if val_acc > best_val_acc:\r\n",
        "                best_val_acc = val_acc\r\n",
        "                torch.save(model, 'model')\r\n",
        "\r\n",
        "    print()\r\n",
        "    print('>> epoch {} avg loss {:.5f}, avg acc {:.5f},val loss {:.5f}, val acc {:.5f}'\r\n",
        "        .format(epoch, epoch_loss/total_batches, epoch_acc/total_batches, val_loss, val_acc))"
      ],
      "execution_count": 153,
      "outputs": [
        {
          "output_type": "stream",
          "text": [
            ">> epoch 0, batch 5098/5099, remaining time 0.01416s, loss 0.59198, acc 0.71875, val loss 0.71129, val acc 0.55744\n",
            ">> epoch 0 avg loss 0.63933, avg acc 0.63909,val loss 0.71129, val acc 0.55744\n",
            ">> epoch 1, batch 5098/5099, remaining time 0.01421s, loss 0.59319, acc 0.71875, val loss 0.71788, val acc 0.55122\n",
            ">> epoch 1 avg loss 0.63203, avg acc 0.65046,val loss 0.71788, val acc 0.55122\n",
            ">> epoch 2, batch 5098/5099, remaining time 0.01416s, loss 0.59356, acc 0.71875, val loss 0.72265, val acc 0.54829\n",
            ">> epoch 2 avg loss 0.62997, avg acc 0.65335,val loss 0.72265, val acc 0.54829\n"
          ],
          "name": "stdout"
        }
      ]
    },
    {
      "cell_type": "markdown",
      "metadata": {
        "id": "0uRStP6iVqLm"
      },
      "source": [
        "#Testing"
      ]
    },
    {
      "cell_type": "code",
      "metadata": {
        "colab": {
          "base_uri": "https://localhost:8080/"
        },
        "id": "S71jhKe3qUJ1",
        "outputId": "11426b71-3616-4b36-e4b0-4e2017fc7c18"
      },
      "source": [
        "from sklearn.metrics import f1_score, confusion_matrix, roc_curve, auc, roc_auc_score\r\n",
        "\r\n",
        "model = torch.load('model')\r\n",
        "positive_class_probs = []\r\n",
        "all_preds = []\r\n",
        "test_loss = 0\r\n",
        "test_acc = 0\r\n",
        "steps = int(len(test_histories)/BATCH_SIZE)\r\n",
        "with torch.no_grad():\r\n",
        "    for j in range(0, len(test_histories), BATCH_SIZE):\r\n",
        "        hists = test_histories[j:j+BATCH_SIZE]\r\n",
        "        hists = [torch.tensor(h) for h in hists]\r\n",
        "        lenghts = [len(h) for h in hists]\r\n",
        "        lenghts = torch.tensor(lenghts, dtype=torch.int32)\r\n",
        "        hists = pad_sequence(hists, batch_first=True)\r\n",
        "        hists = hists.to('cuda')\r\n",
        "        imps = test_impressions[j:j+BATCH_SIZE]\r\n",
        "        imps = torch.tensor(imps)\r\n",
        "        imps = imps.to('cuda')\r\n",
        "        labels = test_labels[j:j+BATCH_SIZE]\r\n",
        "        labels = torch.tensor(labels)\r\n",
        "        labels = labels.to('cuda')\r\n",
        "        preds = model(hists, imps, lenghts)\r\n",
        "        all_preds.extend(preds.cpu().numpy())\r\n",
        "        positive_class_probs.extend([p for p in preds[:, -1].cpu().numpy()])\r\n",
        "        test_loss += loss_function(preds, labels)\r\n",
        "        test_acc += binary_accuracy(preds, labels)\r\n",
        "test_loss /= steps\r\n",
        "test_acc /= steps\r\n",
        "\r\n",
        "auc = roc_auc_score(test_labels, positive_class_probs)\r\n",
        "fpr, tpr, _ = roc_curve(test_labels,  positive_class_probs)\r\n",
        "preds = np.argmax(np.array(all_preds).reshape(-1, 2), axis=1)\r\n",
        "f1 = f1_score(test_labels, preds)\r\n",
        "\r\n",
        "print('test loss {} test acc {} test auc {} f1-score {}'.format(test_loss, test_acc, auc, f1))\r\n",
        "print('confusion matrix:')\r\n",
        "print(confusion_matrix(test_labels, preds))"
      ],
      "execution_count": 164,
      "outputs": [
        {
          "output_type": "stream",
          "text": [
            "test loss 0.7000288367271423 test acc 0.5717147588729858 test auc 0.5820756497583252 f1-score0.3029721955896453\n",
            "confusion matrix:\n",
            "[[2345  452]\n",
            " [1729  474]]\n"
          ],
          "name": "stdout"
        }
      ]
    },
    {
      "cell_type": "code",
      "metadata": {
        "colab": {
          "base_uri": "https://localhost:8080/",
          "height": 265
        },
        "id": "edcSpvJrj7fC",
        "outputId": "380a64f7-9ab3-4425-f6fe-de02f16d324c"
      },
      "source": [
        "plt.plot(fpr,tpr,label=\"test set, auc=\"+str(auc))\r\n",
        "plt.plot([0, 1], [0, 1], color='red')\r\n",
        "plt.legend(loc=4)\r\n",
        "plt.show()"
      ],
      "execution_count": 155,
      "outputs": [
        {
          "output_type": "display_data",
          "data": {
            "image/png": "[encoded data removed]",
            "text/plain": [
              "<Figure size 432x288 with 1 Axes>"
            ]
          },
          "metadata": {
            "tags": [],
            "needs_background": "light"
          }
        }
      ]
    }
  ]
}